{
 "cells": [
  {
   "cell_type": "markdown",
   "id": "7196054f",
   "metadata": {},
   "source": [
    "# Working with APIs"
   ]
  },
  {
   "cell_type": "markdown",
   "id": "0547b71e",
   "metadata": {},
   "source": [
    "API stands for Application programming interface<br>\n",
    "APIs are a way for applications to talk to eachother<br>\n",
    "In python we use the requests package to handle the connection<br>\n",
    "<small><strong>Note: It is requests with an s not request(this is a different package)</strong></small><br>\n",
    "Most API's communicate with data in the form of JSON<br>\n",
    "JSON stands for JavaScript Object Notation"
   ]
  },
  {
   "cell_type": "code",
   "execution_count": 3,
   "id": "4db9d154",
   "metadata": {},
   "outputs": [],
   "source": [
    "#import the packages we need:\n",
    "import requests\n",
    "\n",
    "\n"
   ]
  },
  {
   "cell_type": "markdown",
   "id": "e8c2ce51",
   "metadata": {},
   "source": [
    "We will be connecting to the Ergast F1 Racer API today:\n",
    "http://ergast.com/mrd/\n",
    "\n",
    "to view JSON data nicely in the Chrome browser install the extension JSONview"
   ]
  },
  {
   "cell_type": "code",
   "execution_count": 6,
   "id": "52c440c6",
   "metadata": {},
   "outputs": [],
   "source": [
    "import requests\n",
    "\n"
   ]
  },
  {
   "cell_type": "code",
   "execution_count": 8,
   "id": "f60c1b4a",
   "metadata": {},
   "outputs": [],
   "source": [
    "url = \"http://ergast.com/api/f1/2008/5/driverStandings.json\""
   ]
  },
  {
   "cell_type": "code",
   "execution_count": 40,
   "id": "7b63a204",
   "metadata": {},
   "outputs": [
    {
     "name": "stdout",
     "output_type": "stream",
     "text": [
      "<Response [200]>\n"
     ]
    }
   ],
   "source": [
    "#response object\n",
    "response = requests.get(url)\n",
    "print(response)"
   ]
  },
  {
   "cell_type": "code",
   "execution_count": 7,
   "id": "c6d1fdaf",
   "metadata": {},
   "outputs": [
    {
     "data": {
      "text/plain": [
       "True"
      ]
     },
     "execution_count": 7,
     "metadata": {},
     "output_type": "execute_result"
    }
   ],
   "source": [
    "#check and make sure we got a successful response from the API\n",
    "response.ok"
   ]
  },
  {
   "cell_type": "code",
   "execution_count": null,
   "id": "ed4d3256",
   "metadata": {},
   "outputs": [],
   "source": [
    "#view the response as a JSON\n",
    "print(type(response))\n",
    "response.json()"
   ]
  },
  {
   "cell_type": "code",
   "execution_count": 38,
   "id": "92e6cd2c",
   "metadata": {},
   "outputs": [
    {
     "data": {
      "text/plain": [
       "dict"
      ]
     },
     "execution_count": 38,
     "metadata": {},
     "output_type": "execute_result"
    }
   ],
   "source": [
    "type(response.json())"
   ]
  },
  {
   "cell_type": "code",
   "execution_count": 25,
   "id": "f074dfcf",
   "metadata": {},
   "outputs": [
    {
     "ename": "KeyError",
     "evalue": "'MRData'",
     "output_type": "error",
     "traceback": [
      "\u001b[1;31m---------------------------------------------------------------------------\u001b[0m",
      "\u001b[1;31mKeyError\u001b[0m                                  Traceback (most recent call last)",
      "\u001b[1;32mc:\\Users\\franc\\OneDrive\\Documents\\coding_temple\\Week3\\Day2\\Intro to APIs Complete.ipynb Cell 11\u001b[0m in \u001b[0;36m<cell line: 2>\u001b[1;34m()\u001b[0m\n\u001b[0;32m      <a href='vscode-notebook-cell:/c%3A/Users/franc/OneDrive/Documents/coding_temple/Week3/Day2/Intro%20to%20APIs%20Complete.ipynb#ch0000010?line=0'>1</a>\u001b[0m \u001b[39m# We only want the Driver Standings\u001b[39;00m\n\u001b[1;32m----> <a href='vscode-notebook-cell:/c%3A/Users/franc/OneDrive/Documents/coding_temple/Week3/Day2/Intro%20to%20APIs%20Complete.ipynb#ch0000010?line=1'>2</a>\u001b[0m data \u001b[39m=\u001b[39m response\u001b[39m.\u001b[39;49mjson()[\u001b[39m\"\u001b[39;49m\u001b[39mMRData\u001b[39;49m\u001b[39m\"\u001b[39;49m][\u001b[39m\"\u001b[39m\u001b[39mStandingsTable\u001b[39m\u001b[39m\"\u001b[39m][\u001b[39m\"\u001b[39m\u001b[39mStandingsLists\u001b[39m\u001b[39m\"\u001b[39m][\u001b[39m0\u001b[39m][\u001b[39m\"\u001b[39m\u001b[39mDriverStandings\u001b[39m\u001b[39m\"\u001b[39m]\n",
      "\u001b[1;31mKeyError\u001b[0m: 'MRData'"
     ]
    }
   ],
   "source": [
    "# We only want the Driver Standings\n",
    "data = response.json()[\"MRData\"][\"StandingsTable\"][\"StandingsLists\"][0][\"DriverStandings\"]\n"
   ]
  },
  {
   "cell_type": "code",
   "execution_count": 11,
   "id": "d3794c75",
   "metadata": {},
   "outputs": [
    {
     "data": {
      "text/plain": [
       "list"
      ]
     },
     "execution_count": 11,
     "metadata": {},
     "output_type": "execute_result"
    }
   ],
   "source": [
    "type(data)"
   ]
  },
  {
   "cell_type": "code",
   "execution_count": null,
   "id": "be46a950",
   "metadata": {},
   "outputs": [],
   "source": [
    "def get_racer_info(data):\n",
    "    new_data=[]\n",
    "    for racer in data:\n",
    "        racer_dict={}\n",
    "        racer_name = f\"{racer['Driver']['givenName']} {racer['Driver']['familyName']}\"\n",
    "        \n",
    "        racer_dict[racer_name]={\n",
    "            'last_name':racer['Driver']['familyName'],\n",
    "            'position':racer['position'],\n",
    "            'wins':racer['wins'],\n",
    "            'DOB':racer['Driver']['dateOfBirth'],\n",
    "            'nationality':racer['Driver']['nationality'],\n",
    "            'contructor':racer['Constructors'][0]['name']\n",
    "        }\n",
    "        new_data.append(racer_dict)\n",
    "        return new_data\n",
    "\n",
    "print(get_racer_info(data))\n"
   ]
  },
  {
   "cell_type": "code",
   "execution_count": 17,
   "id": "3740c752",
   "metadata": {},
   "outputs": [
    {
     "data": {
      "text/plain": [
       "'We had an error loading your data likely the year or round is not in the database'"
      ]
     },
     "execution_count": 17,
     "metadata": {},
     "output_type": "execute_result"
    }
   ],
   "source": [
    "def get_driver_info_by_year_and_round(year,r):\n",
    "    url = f\"http://ergast.com/api/f1/{year}/{r}/driverStandings.json\"\n",
    "    response = requests.get(url)\n",
    "#     if not response.ok:\n",
    "    if not response.json()[\"MRData\"][\"StandingsTable\"][\"StandingsLists\"]:\n",
    "        return \"We had an error loading your data likely the year or round is not in the database\"\n",
    "    data = response.json()[\"MRData\"][\"StandingsTable\"][\"StandingsLists\"][0][\"DriverStandings\"]\n",
    "    return get_racer_info(data)\n",
    "\n",
    "get_driver_info_by_year_and_round(2022,4)"
   ]
  },
  {
   "cell_type": "markdown",
   "id": "6d546014",
   "metadata": {},
   "source": [
    "# <strong>Homework</strong>\n",
    "check out this Pokemon API https://pokeapi.co/\n",
    "Use the requests package to connect to this API and get and store data for 5 different pokemon.\n",
    "Get the pokemons: name, atleast one ability's name, base_experience, and the URL for its sprite (an image that shows up on screen) for the 'front_shiny'"
   ]
  },
  {
   "cell_type": "code",
   "execution_count": 8,
   "id": "5a9081e3",
   "metadata": {},
   "outputs": [],
   "source": [
    "\n",
    "import requests\n",
    "\n",
    "url = \"https://pokeapi.co/api/v2/pokemon/pikachu\"\n",
    "\n",
    "def create_from_name(self, name):\n",
    "        response=requests.get(f'https://pokeapi.co/api/v2/pokemon/')\n",
    "\n",
    "        data = response.json()\n",
    "\n",
    "        self.name = data['name']\n",
    "        self.hit_points = data[\"stats\"][0][\"base_stat\"]\n",
    "        self.attack_points = data[\"stats\"][1][\"base_stat\"]\n",
    "        self.defense_points = data[\"stats\"][2][\"base_stat\"]\n",
    "        self.types=[ability['ability']['name'] for ability in data['abilities']]\n",
    "        self.image=data[\"sprites\"][\"other\"][\"home\"][\"front_default\"]\"https://raw.githubusercontent.com/PokeAPI/sprites/master/sprites/pokemon/back/25.png\"\n",
    "\n"
   ]
  },
  {
   "cell_type": "code",
   "execution_count": 16,
   "id": "5a9081e3",
   "metadata": {},
   "outputs": [
    {
     "name": "stdout",
     "output_type": "stream",
     "text": [
      "[{'ability': {'name': 'static', 'url': 'https://pokeapi.co/api/v2/ability/9/'}, 'is_hidden': False, 'slot': 1}, {'ability': {'name': 'lightning-rod', 'url': 'https://pokeapi.co/api/v2/ability/31/'}, 'is_hidden': True, 'slot': 3}]\n"
     ]
    }
   ],
   "source": [
    "data = response.json()[\"abilities\"]\n",
    "print(data)\n"
   ]
  },
  {
   "cell_type": "code",
   "execution_count": 9,
   "id": "d27c0ef6",
   "metadata": {},
   "outputs": [],
   "source": [
    "\n",
    "import requests\n",
    "\n",
    "url = \"https://pokeapi.co/api/v2/pokemon/ditto\"\n",
    "\n",
    "def create_from_name(self, name):\n",
    "        response=requests.get(f'https://pokeapi.co/api/v2/pokemon/')\n",
    "\n",
    "        data = response.json()\n",
    "\n",
    "        self.name = data['name']\n",
    "        self.hit_points = data[\"stats\"][0][\"base_stat\"]\n",
    "        self.attack_points = data[\"stats\"][1][\"base_stat\"]\n",
    "        self.defense_points = data[\"stats\"][2][\"base_stat\"]\n",
    "        self.types=[ability['ability']['name'] for ability in data['abilities']]\n",
    "        self.image=data[\"sprites\"][\"other\"][\"home\"][\"front_default\"] \"https://raw.githubusercontent.com/PokeAPI/sprites/master/sprites/pokemon/back/132.png\""
   ]
  },
  {
   "cell_type": "code",
   "execution_count": 24,
   "id": "c89ac427",
   "metadata": {},
   "outputs": [
    {
     "name": "stdout",
     "output_type": "stream",
     "text": [
      "[{'ability': {'name': 'pressure', 'url': 'https://pokeapi.co/api/v2/ability/46/'}, 'is_hidden': False, 'slot': 1}, {'ability': {'name': 'static', 'url': 'https://pokeapi.co/api/v2/ability/9/'}, 'is_hidden': True, 'slot': 3}]\n"
     ]
    }
   ],
   "source": [
    "        import requests\n",
    "        url = \"https://pokeapi.co/api/v2/pokemon/zapdos\"\n",
    "\n",
    "\n",
    "def create_from_name(self, name):\n",
    "        response=requests.get(f'https://pokeapi.co/api/v2/pokemon/145')\n",
    "\n",
    "        data = response.json()\n",
    "\n",
    "        self.name = data['name']\n",
    "        self.hit_points = data[\"stats\"][0][\"base_stat\"]\n",
    "        self.attack_points = data[\"stats\"][1][\"base_stat\"]\n",
    "        self.defense_points = data[\"stats\"][2][\"base_stat\"]\n",
    "        self.types=[ability['ability']['name'] for ability in data['abilities']]\n",
    "        self.image=data[\"sprites\"][\"other\"][\"home\"][\"front_default\"] = \"https://raw.githubusercontent.com/PokeAPI/sprites/master/sprites/pokemon/back/145.png\""
   ]
  },
  {
   "cell_type": "code",
   "execution_count": 18,
   "id": "e32500cd",
   "metadata": {},
   "outputs": [
    {
     "ename": "IndentationError",
     "evalue": "expected an indented block (221528705.py, line 6)",
     "output_type": "error",
     "traceback": [
      "\u001b[1;36m  Input \u001b[1;32mIn [18]\u001b[1;36m\u001b[0m\n\u001b[1;33m    response = requests.get(f'https://pokeapi.co/api/v2/pokemon/150')\u001b[0m\n\u001b[1;37m    ^\u001b[0m\n\u001b[1;31mIndentationError\u001b[0m\u001b[1;31m:\u001b[0m expected an indented block\n"
     ]
    }
   ],
   "source": [
    "import requests\n",
    "url = \"https://pokeapi.co/api/v2/pokemon/150\"\n",
    "\n",
    "\n",
    "def create_from_name(self, name):\n",
    "        response = requests.get(f'https://pokeapi.co/api/v2/pokemon/150')\n",
    "        \n",
    "        data = response.json()\n",
    "\n",
    "        self.name = data['name']\n",
    "        self.hit_points = data[\"stats\"][0][\"base_stat\"]\n",
    "        self.attack_points = data[\"stats\"][1][\"base_stat\"]\n",
    "        self.defense_points = data[\"stats\"][2][\"base_stat\"]\n",
    "        self.types=[ability['ability']['name'] for ability in data['abilities']]\n",
    "        self.image=data[\"sprites\"][\"other\"][\"home\"][\"front_default\"] = \"https://raw.githubusercontent.com/PokeAPI/sprites/master/sprites/pokemon/back/150.png\"\n"
   ]
  },
  {
   "cell_type": "code",
   "execution_count": null,
   "id": "0c10c9ff",
   "metadata": {},
   "outputs": [],
   "source": [
    "        import requests\n",
    "        url = \"https://pokeapi.co/api/v2/pokemon/125\"\n",
    "\n",
    "def create_from_name(self, name):\n",
    "        response=requests.get(f'https://pokeapi.co/api/v2/pokemon/125')\n",
    "\n",
    "        data = response.json()\n",
    "\n",
    "        self.name = data['name']\n",
    "        self.hit_points = data[\"stats\"][0][\"base_stat\"]\n",
    "        self.attack_points = data[\"stats\"][1][\"base_stat\"]\n",
    "        self.defense_points = data[\"stats\"][2][\"base_stat\"]\n",
    "        self.types=[ability['ability']['name'] for ability in data['abilities']]\n",
    "        self.image=data[\"sprites\"][\"other\"][\"home\"][\"front_default\"] = \"https://raw.githubusercontent.com/PokeAPI/sprites/master/sprites/pokemon/back/125.png\""
   ]
  },
  {
   "cell_type": "code",
   "execution_count": 20,
   "id": "09a6afd1",
   "metadata": {},
   "outputs": [],
   "source": [
    "import requests\n",
    "url = \"https://pokeapi.co/api/v2/pokemon/171\"\n",
    "\n",
    "\n",
    "def create_from_name(self, name):\n",
    "        response=requests.get(f'https://pokeapi.co/api/v2/pokemon/171')\n",
    "\n",
    "        data = response.json()\n",
    "\n",
    "        self.name = data['name']\n",
    "        self.hit_points = data[\"stats\"][0][\"base_stat\"]\n",
    "        self.attack_points = data[\"stats\"][1][\"base_stat\"]\n",
    "        self.defense_points = data[\"stats\"][2][\"base_stat\"]\n",
    "        self.types=[ability['ability']['name'] for ability in data['abilities']]\n",
    "        self.image=data[\"sprites\"][\"other\"][\"home\"][\"front_default\"] = \"https://raw.githubusercontent.com/PokeAPI/sprites/master/sprites/pokemon/back/171.png\""
   ]
  }
 ],
 "metadata": {
  "kernelspec": {
   "display_name": "Python 3.9.13 64-bit",
   "language": "python",
   "name": "python3"
  },
  "language_info": {
   "codemirror_mode": {
    "name": "ipython",
    "version": 3
   },
   "file_extension": ".py",
   "mimetype": "text/x-python",
   "name": "python",
   "nbconvert_exporter": "python",
   "pygments_lexer": "ipython3",
   "version": "3.9.13"
  },
  "vscode": {
   "interpreter": {
    "hash": "c89dac2000cd39b6c6afdbb40384525553e908a214fa5e3caa43ad6708c415f4"
   }
  }
 },
 "nbformat": 4,
 "nbformat_minor": 5
}
